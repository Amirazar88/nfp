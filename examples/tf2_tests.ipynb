{
 "cells": [
  {
   "cell_type": "markdown",
   "metadata": {},
   "source": [
    "# TF2 Example with new NFP layers"
   ]
  },
  {
   "cell_type": "code",
   "execution_count": 2,
   "metadata": {},
   "outputs": [],
   "source": [
    "import nfp\n",
    "import tensorflow as tf\n",
    "from tqdm import tqdm\n",
    "\n",
    "import numpy as np\n",
    "import pandas as pd\n",
    "\n",
    "import matplotlib.pyplot as plt\n",
    "import seaborn as sns\n",
    "sns.set(context='talk', style='ticks',\n",
    "        color_codes=True, rc={'legend.frameon': False})"
   ]
  },
  {
   "cell_type": "markdown",
   "metadata": {},
   "source": [
    "### Load the solubility dataset and split into train / test / valid sets"
   ]
  },
  {
   "cell_type": "code",
   "execution_count": 3,
   "metadata": {},
   "outputs": [],
   "source": [
    "solubility = pd.read_csv('../data/delaney.csv')\n",
    "\n",
    "# Split into train, dev, and test sets\n",
    "train = solubility.sample(frac=.8, random_state=1)\n",
    "valid = solubility[~solubility.index.isin(train.index)].sample(frac=.5, random_state=1)\n",
    "test = solubility[~solubility.index.isin(train.index) & ~solubility.index.isin(valid.index)]"
   ]
  },
  {
   "cell_type": "markdown",
   "metadata": {},
   "source": [
    "### Create the preprocessor\n",
    "and define an iterator to yield input encodings and prediction targets"
   ]
  },
  {
   "cell_type": "code",
   "execution_count": 4,
   "metadata": {},
   "outputs": [],
   "source": [
    "preprocessor = nfp.SmilesPreprocessor()\n",
    "        \n",
    "def inputs_generator(df, train=True):\n",
    "    for i, row in tqdm(df.iterrows()):\n",
    "        input_dict = preprocessor.construct_feature_matrices(row.smiles, train=train)\n",
    "        input_dict['solubility'] = row['measured log solubility in mols per litre']\n",
    "        \n",
    "        features = {key: nfp.serialize_value(val) for key, val in input_dict.items()}\n",
    "        example_proto = tf.train.Example(features=tf.train.Features(feature=features))\n",
    "        \n",
    "        yield example_proto.SerializeToString()"
   ]
  },
  {
   "cell_type": "markdown",
   "metadata": {},
   "source": [
    "### TFRecords preprocessing\n",
    "I'm using the tfrecords file format to write the preprocessed train and validation inputs to disk.\n",
    "\n",
    "This allows me to take a full pass over the training dataset to learn atom / bond types before looking at the validation set"
   ]
  },
  {
   "cell_type": "code",
   "execution_count": 5,
   "metadata": {},
   "outputs": [
    {
     "name": "stderr",
     "output_type": "stream",
     "text": [
      "902it [00:01, 736.22it/s]\n",
      "113it [00:00, 766.13it/s]\n"
     ]
    }
   ],
   "source": [
    "# Preprocess and write the train dataset to disk\n",
    "serialized_train_dataset = tf.data.Dataset.from_generator(\n",
    "    lambda: inputs_generator(train, train=True),\n",
    "    output_types=tf.string, output_shapes=())\n",
    "\n",
    "filename = 'train.tfrecord'\n",
    "writer = tf.data.experimental.TFRecordWriter(filename)\n",
    "writer.write(serialized_train_dataset)\n",
    "\n",
    "# Preprocess and write the validation dataset to disk\n",
    "serialized_valid_dataset = tf.data.Dataset.from_generator(\n",
    "    lambda: inputs_generator(valid, train=False),\n",
    "    output_types=tf.string, output_shapes=())\n",
    "\n",
    "filename = 'valid.tfrecord'\n",
    "writer = tf.data.experimental.TFRecordWriter(filename)\n",
    "writer.write(serialized_valid_dataset)"
   ]
  },
  {
   "cell_type": "code",
   "execution_count": 6,
   "metadata": {},
   "outputs": [
    {
     "data": {
      "text/plain": [
       "119"
      ]
     },
     "execution_count": 6,
     "metadata": {},
     "output_type": "execute_result"
    }
   ],
   "source": [
    "preprocessor.max_atoms"
   ]
  },
  {
   "cell_type": "code",
   "execution_count": 7,
   "metadata": {},
   "outputs": [
    {
     "data": {
      "text/plain": [
       "126"
      ]
     },
     "execution_count": 7,
     "metadata": {},
     "output_type": "execute_result"
    }
   ],
   "source": [
    "preprocessor.max_bonds"
   ]
  },
  {
   "cell_type": "markdown",
   "metadata": {},
   "source": [
    "### Load the dataset back from the tfrecord files\n",
    "These functions load the saved data back from the disk, and batches and pads the resulting inputs.\n",
    "\n",
    "TF's tfrecord format asks for some fairly verbose descriptions of the data types."
   ]
  },
  {
   "cell_type": "code",
   "execution_count": 8,
   "metadata": {},
   "outputs": [],
   "source": [
    "def parse_example(example):\n",
    "    \n",
    "    parsed = tf.io.parse_single_example(example, features={\n",
    "        **preprocessor.tfrecord_features,\n",
    "        **{'solubility': tf.io.FixedLenFeature([], dtype=tf.float32)}})\n",
    "\n",
    "    # All of the array preprocessor features are serialized integer arrays\n",
    "    for key, val in preprocessor.tfrecord_features.items():\n",
    "        if val.dtype == tf.string:\n",
    "            parsed[key] = tf.io.parse_tensor(\n",
    "                parsed[key], out_type=preprocessor.output_types[key])\n",
    "    \n",
    "    # Pop out the prediction target from the stored dictionary as a seperate input\n",
    "    solubility = parsed.pop('solubility')\n",
    "    \n",
    "    return parsed, solubility\n",
    "\n",
    "max_atoms = -1  # These allow prespecifying array shapes, i.e. for CUDA cores\n",
    "max_bonds = -1\n",
    "\n",
    "# Here, we have to add the prediction target padding onto the input padding\n",
    "padded_shapes = (preprocessor.padded_shapes(max_atoms=max_atoms, max_bonds=max_bonds),\n",
    "                 [])\n",
    "\n",
    "# In case there's not enough molecules in a batch, solubility would be padded with NaNs\n",
    "padding_values = (preprocessor.padding_values,\n",
    "                  tf.constant(np.nan, dtype=tf.float32))\n",
    "\n",
    "batch_size = 2**6\n",
    "\n",
    "train_dataset = tf.data.TFRecordDataset('train.tfrecord')\\\n",
    "    .map(parse_example, num_parallel_calls=tf.data.experimental.AUTOTUNE)\\\n",
    "    .cache().repeat().shuffle(buffer_size=500)\\\n",
    "    .padded_batch(batch_size=batch_size,\n",
    "                  padded_shapes=padded_shapes,\n",
    "                  padding_values=padding_values)\\\n",
    "    .prefetch(tf.data.experimental.AUTOTUNE)\n",
    "\n",
    "valid_dataset = tf.data.TFRecordDataset('valid.tfrecord')\\\n",
    "    .map(parse_example, num_parallel_calls=tf.data.experimental.AUTOTUNE)\\\n",
    "    .cache().repeat().shuffle(buffer_size=500)\\\n",
    "    .padded_batch(batch_size=batch_size,\n",
    "                  padded_shapes=padded_shapes,\n",
    "                  padding_values=padding_values)\\\n",
    "    .prefetch(tf.data.experimental.AUTOTUNE)"
   ]
  },
  {
   "cell_type": "markdown",
   "metadata": {},
   "source": [
    "### Define the tf.keras model\n",
    "\n",
    "Here's where I actually define the keras model. The new NFP layers are fairly basic 'Gather', 'Slice', and 'Reduce' layers, that I compose into these graph neural networks. They're a bit less fully-featured, but a lot more flexible for different architectures."
   ]
  },
  {
   "cell_type": "code",
   "execution_count": 9,
   "metadata": {},
   "outputs": [],
   "source": [
    "from tensorflow.keras import layers\n",
    "import nfp\n",
    "\n",
    "n_atom = layers.Input(shape=[], dtype=tf.int64, name='n_atom')\n",
    "n_bond = layers.Input(shape=[], dtype=tf.int64, name='n_bond')\n",
    "bond_indices = layers.Input(shape=[None], dtype=tf.int64, name='bond_indices')\n",
    "atom_class = layers.Input(shape=[None], dtype=tf.int64, name='atom')\n",
    "bond_class = layers.Input(shape=[None], dtype=tf.int64, name='bond')\n",
    "connectivity = layers.Input(shape=[None, 2], dtype=tf.int64, name='connectivity')\n",
    "\n",
    "input_tensors = [n_atom, n_bond, bond_indices, atom_class, bond_class, connectivity]\n",
    "\n",
    "atom_features = 16\n",
    "num_messages = 3\n",
    "\n",
    "# Initialize the atom states\n",
    "atom_state = layers.Embedding(preprocessor.atom_classes, atom_features,\n",
    "                              name='atom_embedding', mask_zero=True)(atom_class)\n",
    "\n",
    "# Initialize the bond states\n",
    "bond_state = layers.Embedding(preprocessor.bond_classes, atom_features,\n",
    "                              name='bond_embedding', mask_zero=True)(bond_class)\n",
    "\n",
    "# Initialize the bond states\n",
    "atom_mean = layers.Embedding(preprocessor.atom_classes, 1,\n",
    "                             name='atom_mean', mask_zero=True)(atom_class)\n",
    "\n",
    "\n",
    "def message_block(original_atom_state, original_bond_state, connectivity, i):\n",
    "    \n",
    "    atom_state = layers.LayerNormalization()(original_atom_state)\n",
    "    bond_state = layers.LayerNormalization()(original_bond_state)\n",
    "    \n",
    "    source_atom = nfp.Gather()([atom_state, nfp.Slice(np.s_[:, :, 1])(connectivity)])\n",
    "    target_atom = nfp.Gather()([atom_state, nfp.Slice(np.s_[:, :, 0])(connectivity)])\n",
    "\n",
    "    # Edge update network\n",
    "    new_bond_state = layers.Concatenate(name='concat_{}'.format(i))(\n",
    "        [source_atom, target_atom, bond_state])\n",
    "    new_bond_state = layers.Dense(\n",
    "        2*atom_features, activation='relu')(new_bond_state)\n",
    "    new_bond_state = layers.Dense(atom_features)(new_bond_state)\n",
    "\n",
    "    bond_state = layers.Add()([original_bond_state, new_bond_state])\n",
    "\n",
    "    # message function\n",
    "    source_atom = layers.Dense(atom_features)(source_atom)    \n",
    "    messages = layers.Multiply()([source_atom, bond_state])\n",
    "    messages = nfp.Reduce(reduction='sum')(\n",
    "        [messages, nfp.Slice(np.s_[:, :, 0])(connectivity), atom_state])\n",
    "    \n",
    "    # state transition function\n",
    "    messages = layers.Dense(atom_features, activation='relu')(messages)\n",
    "    messages = layers.Dense(atom_features)(messages)\n",
    "    \n",
    "    atom_state = layers.Add()([original_atom_state, messages])\n",
    "    \n",
    "    return atom_state, bond_state\n",
    "\n",
    "for i in range(num_messages):\n",
    "    atom_state, bond_state = message_block(atom_state, bond_state, connectivity, i)\n",
    "    \n",
    "atom_state = layers.Dense(1)(atom_state)\n",
    "atom_state = layers.Add()([atom_state, atom_mean])\n",
    "\n",
    "averaged_solubility = tf.keras.layers.GlobalAveragePooling1D()(atom_state)\n",
    "\n",
    "model = tf.keras.Model(input_tensors, [averaged_solubility])\n",
    "model.compile(loss='mae', optimizer=tf.keras.optimizers.Adam(3E-4))"
   ]
  },
  {
   "cell_type": "code",
   "execution_count": 10,
   "metadata": {},
   "outputs": [
    {
     "name": "stdout",
     "output_type": "stream",
     "text": [
      "Train for 14 steps, validate for 1 steps\n",
      "Epoch 1/50\n",
      "14/14 - 6s - loss: 2.6250 - val_loss: 1.5362\n",
      "Epoch 2/50\n",
      "14/14 - 0s - loss: 1.4793 - val_loss: 1.2848\n",
      "Epoch 3/50\n",
      "14/14 - 0s - loss: 1.3021 - val_loss: 1.0777\n",
      "Epoch 4/50\n",
      "14/14 - 0s - loss: 1.1974 - val_loss: 1.0930\n",
      "Epoch 5/50\n",
      "14/14 - 0s - loss: 1.1574 - val_loss: 1.0581\n",
      "Epoch 6/50\n",
      "14/14 - 0s - loss: 1.1222 - val_loss: 0.9886\n",
      "Epoch 7/50\n",
      "14/14 - 0s - loss: 1.0450 - val_loss: 0.9220\n",
      "Epoch 8/50\n",
      "14/14 - 0s - loss: 0.9880 - val_loss: 0.7624\n",
      "Epoch 9/50\n",
      "14/14 - 0s - loss: 0.9767 - val_loss: 0.8592\n",
      "Epoch 10/50\n",
      "14/14 - 0s - loss: 0.9176 - val_loss: 0.7621\n",
      "Epoch 11/50\n",
      "14/14 - 0s - loss: 0.9086 - val_loss: 0.8961\n",
      "Epoch 12/50\n",
      "14/14 - 0s - loss: 0.8816 - val_loss: 0.7848\n",
      "Epoch 13/50\n",
      "14/14 - 0s - loss: 0.8867 - val_loss: 0.7274\n",
      "Epoch 14/50\n",
      "14/14 - 0s - loss: 0.8753 - val_loss: 0.8264\n",
      "Epoch 15/50\n",
      "14/14 - 0s - loss: 0.8187 - val_loss: 0.8204\n",
      "Epoch 16/50\n",
      "14/14 - 0s - loss: 0.7880 - val_loss: 0.8711\n",
      "Epoch 17/50\n",
      "14/14 - 0s - loss: 0.8281 - val_loss: 0.6545\n",
      "Epoch 18/50\n",
      "14/14 - 0s - loss: 0.7892 - val_loss: 0.9888\n",
      "Epoch 19/50\n",
      "14/14 - 0s - loss: 0.7932 - val_loss: 0.8039\n",
      "Epoch 20/50\n",
      "14/14 - 0s - loss: 0.7582 - val_loss: 0.7525\n",
      "Epoch 21/50\n",
      "14/14 - 0s - loss: 0.7382 - val_loss: 0.7874\n",
      "Epoch 22/50\n",
      "14/14 - 0s - loss: 0.7159 - val_loss: 0.7100\n",
      "Epoch 23/50\n",
      "14/14 - 0s - loss: 0.7660 - val_loss: 0.7186\n",
      "Epoch 24/50\n",
      "14/14 - 0s - loss: 0.7275 - val_loss: 0.7036\n",
      "Epoch 25/50\n",
      "14/14 - 0s - loss: 0.7000 - val_loss: 0.6688\n",
      "Epoch 26/50\n",
      "14/14 - 0s - loss: 0.6844 - val_loss: 0.5936\n",
      "Epoch 27/50\n",
      "14/14 - 0s - loss: 0.6741 - val_loss: 0.7899\n",
      "Epoch 28/50\n",
      "14/14 - 0s - loss: 0.6690 - val_loss: 0.7527\n",
      "Epoch 29/50\n",
      "14/14 - 0s - loss: 0.6727 - val_loss: 0.9290\n",
      "Epoch 30/50\n",
      "14/14 - 0s - loss: 0.6868 - val_loss: 0.6247\n",
      "Epoch 31/50\n",
      "14/14 - 0s - loss: 0.6751 - val_loss: 0.6963\n",
      "Epoch 32/50\n",
      "14/14 - 0s - loss: 0.6217 - val_loss: 0.5920\n",
      "Epoch 33/50\n",
      "14/14 - 0s - loss: 0.7026 - val_loss: 0.6221\n",
      "Epoch 34/50\n",
      "14/14 - 0s - loss: 0.6250 - val_loss: 0.6017\n",
      "Epoch 35/50\n",
      "14/14 - 0s - loss: 0.6173 - val_loss: 0.7532\n",
      "Epoch 36/50\n",
      "14/14 - 0s - loss: 0.5959 - val_loss: 0.6771\n",
      "Epoch 37/50\n",
      "14/14 - 0s - loss: 0.6032 - val_loss: 0.6551\n",
      "Epoch 38/50\n",
      "14/14 - 0s - loss: 0.5870 - val_loss: 0.6588\n",
      "Epoch 39/50\n",
      "14/14 - 0s - loss: 0.6418 - val_loss: 0.6813\n",
      "Epoch 40/50\n",
      "14/14 - 0s - loss: 0.6022 - val_loss: 0.6521\n",
      "Epoch 41/50\n",
      "14/14 - 0s - loss: 0.6031 - val_loss: 0.4972\n",
      "Epoch 42/50\n",
      "14/14 - 0s - loss: 0.5484 - val_loss: 0.6129\n",
      "Epoch 43/50\n",
      "14/14 - 0s - loss: 0.6020 - val_loss: 0.7054\n",
      "Epoch 44/50\n",
      "14/14 - 0s - loss: 0.5970 - val_loss: 0.5966\n",
      "Epoch 45/50\n",
      "14/14 - 0s - loss: 0.5700 - val_loss: 0.7077\n",
      "Epoch 46/50\n",
      "14/14 - 0s - loss: 0.5603 - val_loss: 0.5154\n",
      "Epoch 47/50\n",
      "14/14 - 0s - loss: 0.6207 - val_loss: 0.5581\n",
      "Epoch 48/50\n",
      "14/14 - 0s - loss: 0.5483 - val_loss: 0.5272\n",
      "Epoch 49/50\n",
      "14/14 - 0s - loss: 0.6004 - val_loss: 0.7197\n",
      "Epoch 50/50\n",
      "14/14 - 0s - loss: 0.5616 - val_loss: 0.6410\n"
     ]
    }
   ],
   "source": [
    "hist = model.fit(train_dataset, validation_data=valid_dataset, epochs=50,\n",
    "                 steps_per_epoch=len(train) // batch_size,\n",
    "                 validation_steps=len(valid) // batch_size, verbose=2)"
   ]
  },
  {
   "cell_type": "code",
   "execution_count": 11,
   "metadata": {},
   "outputs": [
    {
     "data": {
      "text/plain": [
       "<matplotlib.legend.Legend at 0x7f93c8e2eb90>"
      ]
     },
     "execution_count": 11,
     "metadata": {},
     "output_type": "execute_result"
    },
    {
     "data": {
      "image/png": "[encoded data removed]",
      "text/plain": [
       "<Figure size 432x288 with 1 Axes>"
      ]
     },
     "metadata": {},
     "output_type": "display_data"
    }
   ],
   "source": [
    "plt.plot(hist.history['loss'], label='Train loss')\n",
    "plt.plot(hist.history['val_loss'], label='Val loss')\n",
    "plt.legend()"
   ]
  },
  {
   "cell_type": "markdown",
   "metadata": {},
   "source": [
    "### Model predictions\n",
    "\n",
    "Here I simulate wanting to re-load a trained model in another script. This saves both the preprocessor (for remembering how to convert atoms and bonds to their classes) as well as the trained model weights and structure."
   ]
  },
  {
   "cell_type": "code",
   "execution_count": 12,
   "metadata": {},
   "outputs": [],
   "source": [
    "model.save('model.h5')\n",
    "\n",
    "import pickle\n",
    "with open('preprocessor.p', 'wb') as f:\n",
    "    pickle.dump(preprocessor, f)"
   ]
  },
  {
   "cell_type": "code",
   "execution_count": 13,
   "metadata": {},
   "outputs": [],
   "source": [
    "# Just to show these are created again\n",
    "del model\n",
    "del preprocessor"
   ]
  },
  {
   "cell_type": "code",
   "execution_count": 14,
   "metadata": {},
   "outputs": [],
   "source": [
    "model = tf.keras.models.load_model('model.h5', custom_objects=nfp.custom_objects)\n",
    "with open('preprocessor.p', 'rb') as f:\n",
    "    preprocessor = pickle.load(f)"
   ]
  },
  {
   "cell_type": "markdown",
   "metadata": {},
   "source": [
    "Here I show a slightly different dataset approach that doesn't use TFRecords, in case this is done for interactive predictions of new molecules where round-tripping a binary file doesn't make sense"
   ]
  },
  {
   "cell_type": "code",
   "execution_count": 15,
   "metadata": {},
   "outputs": [],
   "source": [
    "def test_generator(smiles):\n",
    "    preprocessor.atom_tokenizer.train = False\n",
    "    preprocessor.bond_tokenizer.train = False    \n",
    "    for smiles in tqdm(smiles):\n",
    "        yield preprocessor.construct_feature_matrices(smiles)"
   ]
  },
  {
   "cell_type": "code",
   "execution_count": 16,
   "metadata": {},
   "outputs": [],
   "source": [
    "test_dataset = tf.data.Dataset.from_generator(\n",
    "    lambda: test_generator(test.smiles),\n",
    "    output_types=preprocessor.output_types,\n",
    "    output_shapes=preprocessor.output_shapes)\\\n",
    "    .padded_batch(batch_size=batch_size, padded_shapes=padded_shapes[0],\n",
    "                  padding_values=padding_values[0])"
   ]
  },
  {
   "cell_type": "code",
   "execution_count": 17,
   "metadata": {},
   "outputs": [
    {
     "name": "stderr",
     "output_type": "stream",
     "text": [
      "100%|██████████| 113/113 [00:00<00:00, 1087.63it/s]\n"
     ]
    }
   ],
   "source": [
    "predictions = model.predict(test_dataset)"
   ]
  },
  {
   "cell_type": "code",
   "execution_count": 18,
   "metadata": {},
   "outputs": [
    {
     "data": {
      "text/plain": [
       "Text(0.5, 1.0, 'Test MAE: 0.682')"
      ]
     },
     "execution_count": 18,
     "metadata": {},
     "output_type": "execute_result"
    },
    {
     "data": {
      "image/png": "[encoded data removed]",
      "text/plain": [
       "<Figure size 432x288 with 1 Axes>"
      ]
     },
     "metadata": {},
     "output_type": "display_data"
    }
   ],
   "source": [
    "plt.plot(predictions, test['measured log solubility in mols per litre'], '.')\n",
    "plt.plot([-10, 2], [-10, 2], '--', color='.7')\n",
    "mae = (predictions.squeeze() - test['measured log solubility in mols per litre']).abs().mean()\n",
    "plt.title(f'Test MAE: {mae:.3f}')"
   ]
  }
 ],
 "metadata": {
  "kernelspec": {
   "display_name": "Python 3",
   "language": "python",
   "name": "python3"
  },
  "language_info": {
   "codemirror_mode": {
    "name": "ipython",
    "version": 3
   },
   "file_extension": ".py",
   "mimetype": "text/x-python",
   "name": "python",
   "nbconvert_exporter": "python",
   "pygments_lexer": "ipython3",
   "version": "3.7.6"
  }
 },
 "nbformat": 4,
 "nbformat_minor": 4
}
