{
 "cells": [
  {
   "cell_type": "markdown",
   "metadata": {},
   "source": [
    "# TF2 Example with new NFP layers"
   ]
  },
  {
   "cell_type": "code",
   "execution_count": 1,
   "metadata": {},
   "outputs": [],
   "source": [
    "import nfp\n",
    "import numpy as np\n",
    "import pandas as pd\n",
    "\n",
    "import matplotlib.pyplot as plt\n",
    "import seaborn as sns\n",
    "sns.set(context='talk', style='ticks',\n",
    "        color_codes=True, rc={'legend.frameon': False})"
   ]
  },
  {
   "cell_type": "markdown",
   "metadata": {},
   "source": [
    "### Load the solubility dataset and split into train / test / valid sets"
   ]
  },
  {
   "cell_type": "code",
   "execution_count": 2,
   "metadata": {},
   "outputs": [],
   "source": [
    "solubility = pd.read_csv('../data/delaney.csv')\n",
    "\n",
    "# Split into train, dev, and test sets\n",
    "train = solubility.sample(frac=.8, random_state=1)\n",
    "valid = solubility[~solubility.index.isin(train.index)].sample(frac=.5, random_state=1)\n",
    "test = solubility[~solubility.index.isin(train.index) & ~solubility.index.isin(valid.index)]"
   ]
  },
  {
   "cell_type": "markdown",
   "metadata": {},
   "source": [
    "### Define some tensorflow boilerplate\n",
    "I may move this inside nfp at some point."
   ]
  },
  {
   "cell_type": "code",
   "execution_count": 4,
   "metadata": {},
   "outputs": [],
   "source": [
    "import tensorflow as tf\n",
    "from tqdm import tqdm\n",
    "\n",
    "# Code from https://www.tensorflow.org/tutorials/load_data/tfrecord\n",
    "\n",
    "def _bytes_feature(value):\n",
    "    \"\"\"Returns a bytes_list from a string / byte.\"\"\"\n",
    "    if isinstance(value, type(tf.constant(0))):\n",
    "        value = value.numpy() # BytesList won't unpack a string from an EagerTensor.\n",
    "    return tf.train.Feature(bytes_list=tf.train.BytesList(value=[value]))\n",
    "\n",
    "def _float_feature(value):\n",
    "  \"\"\"Returns a float_list from a float / double.\"\"\"\n",
    "  return tf.train.Feature(float_list=tf.train.FloatList(value=[value]))\n",
    "\n",
    "def _int64_feature(value):\n",
    "    \"\"\"Returns an int64_list from a bool / enum / int / uint.\"\"\"\n",
    "    return tf.train.Feature(int64_list=tf.train.Int64List(value=[value]))\n",
    "\n",
    "def serialize_value(value):\n",
    "    if type(value) == np.ndarray:\n",
    "        return _bytes_feature(tf.io.serialize_tensor(value))\n",
    "    elif type(value) == int:\n",
    "        return _int64_feature(value)\n",
    "    elif type(value) == float:\n",
    "        return _float_feature(value)\n",
    "    else:\n",
    "        raise TypeError"
   ]
  },
  {
   "cell_type": "markdown",
   "metadata": {},
   "source": [
    "### Create the preprocessor\n",
    "and define an iterator to yield input encodings and prediction targets"
   ]
  },
  {
   "cell_type": "code",
   "execution_count": 5,
   "metadata": {},
   "outputs": [],
   "source": [
    "preprocessor = nfp.SmilesPreprocessor()\n",
    "        \n",
    "def inputs_generator(df, train=True):\n",
    "    preprocessor.atom_tokenizer.train = train\n",
    "    preprocessor.bond_tokenizer.train = train    \n",
    "    for i, row in tqdm(df.iterrows()):\n",
    "        input_dict = preprocessor.construct_feature_matrices(row.smiles)\n",
    "        input_dict['solubility'] = row['measured log solubility in mols per litre']\n",
    "        \n",
    "        features = {key: serialize_value(val) for key, val in input_dict.items()}\n",
    "        example_proto = tf.train.Example(features=tf.train.Features(feature=features))\n",
    "        \n",
    "        yield example_proto.SerializeToString()"
   ]
  },
  {
   "cell_type": "markdown",
   "metadata": {},
   "source": [
    "### TFRecords preprocessing\n",
    "I'm using the tfrecords file format to write the preprocessed train and validation inputs to disk.\n",
    "\n",
    "This allows me to take a full pass over the training dataset to learn atom / bond types before looking at the validation set"
   ]
  },
  {
   "cell_type": "code",
   "execution_count": 6,
   "metadata": {},
   "outputs": [
    {
     "name": "stderr",
     "output_type": "stream",
     "text": [
      "902it [00:01, 895.18it/s]\n",
      "113it [00:00, 886.56it/s]\n"
     ]
    }
   ],
   "source": [
    "# Preprocess and write the train dataset to disk\n",
    "serialized_train_dataset = tf.data.Dataset.from_generator(\n",
    "    lambda: inputs_generator(train, train=True),\n",
    "    output_types=tf.string, output_shapes=())\n",
    "\n",
    "filename = 'train.tfrecord'\n",
    "writer = tf.data.experimental.TFRecordWriter(filename)\n",
    "writer.write(serialized_train_dataset)\n",
    "\n",
    "# Preprocess and write the validation dataset to disk\n",
    "serialized_valid_dataset = tf.data.Dataset.from_generator(\n",
    "    lambda: inputs_generator(valid, train=False),\n",
    "    output_types=tf.string, output_shapes=())\n",
    "\n",
    "filename = 'valid.tfrecord'\n",
    "writer = tf.data.experimental.TFRecordWriter(filename)\n",
    "writer.write(serialized_valid_dataset)"
   ]
  },
  {
   "cell_type": "code",
   "execution_count": 7,
   "metadata": {},
   "outputs": [
    {
     "data": {
      "text/plain": [
       "119"
      ]
     },
     "execution_count": 7,
     "metadata": {},
     "output_type": "execute_result"
    }
   ],
   "source": [
    "preprocessor.max_atoms"
   ]
  },
  {
   "cell_type": "code",
   "execution_count": 8,
   "metadata": {},
   "outputs": [
    {
     "data": {
      "text/plain": [
       "126"
      ]
     },
     "execution_count": 8,
     "metadata": {},
     "output_type": "execute_result"
    }
   ],
   "source": [
    "preprocessor.max_bonds"
   ]
  },
  {
   "cell_type": "markdown",
   "metadata": {},
   "source": [
    "### Load the dataset back from the tfrecord files\n",
    "These functions load the saved data back from the disk, and batches and pads the resulting inputs.\n",
    "\n",
    "TF's tfrecord format asks for some fairly verbose descriptions of the data types."
   ]
  },
  {
   "cell_type": "code",
   "execution_count": 12,
   "metadata": {},
   "outputs": [],
   "source": [
    "def parse_example(example):\n",
    "    \n",
    "    parsed = tf.io.parse_single_example(example, features={\n",
    "        'n_atom': tf.io.FixedLenFeature([], dtype=tf.int64),\n",
    "        'n_bond': tf.io.FixedLenFeature([], dtype=tf.int64),\n",
    "        'bond_indices': tf.io.FixedLenFeature([], dtype=tf.string),\n",
    "        'atom': tf.io.FixedLenFeature([], dtype=tf.string),\n",
    "        'bond': tf.io.FixedLenFeature([], dtype=tf.string),\n",
    "        'connectivity': tf.io.FixedLenFeature([], dtype=tf.string),\n",
    "        'solubility': tf.io.FixedLenFeature([], dtype=tf.float32)})\n",
    "\n",
    "    parsed['bond_indices'] = tf.io.parse_tensor(parsed['bond_indices'], out_type=tf.int64)\n",
    "    parsed['atom'] = tf.io.parse_tensor(parsed['atom'], out_type=tf.int64)\n",
    "    parsed['bond'] = tf.io.parse_tensor(parsed['bond'], out_type=tf.int64)\n",
    "    parsed['connectivity'] = tf.io.parse_tensor(parsed['connectivity'], out_type=tf.int64)\n",
    "    \n",
    "    # Pop out the prediction target from the stored dictionary as a seperate input\n",
    "    solubility = parsed.pop('solubility')\n",
    "    \n",
    "    return parsed, solubility\n",
    "\n",
    "max_atoms = -1  # These allow prespecifying array shapes, i.e. for CUDA cores\n",
    "max_bonds = -1\n",
    "\n",
    "padded_shapes = ({'n_atom': [],\n",
    "                  'n_bond': [],\n",
    "                  'bond_indices': [max_bonds],            \n",
    "                  'atom': [max_atoms],\n",
    "                  'bond': [max_bonds],\n",
    "                  'connectivity': [max_bonds, 2]},\n",
    "                 [])\n",
    "\n",
    "zero = tf.constant(0, dtype=tf.int64)\n",
    "padding_values = ({'n_atom': zero,\n",
    "                   'n_bond': zero,\n",
    "                   'bond_indices': zero,\n",
    "                   'atom': zero,\n",
    "                   'bond': zero,\n",
    "                   'connectivity': zero},\n",
    "                  tf.constant(np.nan, dtype=tf.float32))\n",
    "\n",
    "batch_size = 2**6\n",
    "\n",
    "train_dataset = tf.data.TFRecordDataset('train.tfrecord')\\\n",
    "    .map(parse_example, num_parallel_calls=tf.data.experimental.AUTOTUNE)\\\n",
    "    .cache().repeat().shuffle(buffer_size=500)\\\n",
    "    .padded_batch(batch_size=batch_size, padded_shapes=padded_shapes,\n",
    "                  padding_values=padding_values)\\\n",
    "    .prefetch(tf.data.experimental.AUTOTUNE)\n",
    "\n",
    "valid_dataset = tf.data.TFRecordDataset('valid.tfrecord')\\\n",
    "    .map(parse_example, num_parallel_calls=tf.data.experimental.AUTOTUNE)\\\n",
    "    .cache().repeat().shuffle(buffer_size=500)\\\n",
    "    .padded_batch(batch_size=batch_size, padded_shapes=padded_shapes,\n",
    "                  padding_values=padding_values)\\\n",
    "    .prefetch(tf.data.experimental.AUTOTUNE)"
   ]
  },
  {
   "cell_type": "markdown",
   "metadata": {},
   "source": [
    "### Define the tf.keras model\n",
    "\n",
    "Here's where I actually define the keras model. The new NFP layers are fairly basic 'Gather', 'Slice', and 'Reduce' layers, that I compose into these graph neural networks. They're a bit less fully-featured, but a lot more flexible for different architectures."
   ]
  },
  {
   "cell_type": "code",
   "execution_count": 13,
   "metadata": {},
   "outputs": [],
   "source": [
    "from tensorflow.keras import layers\n",
    "import nfp\n",
    "\n",
    "n_atom = layers.Input(shape=[], dtype=tf.int64, name='n_atom')\n",
    "n_bond = layers.Input(shape=[], dtype=tf.int64, name='n_bond')\n",
    "bond_indices = layers.Input(shape=[None], dtype=tf.int64, name='bond_indices')\n",
    "atom_class = layers.Input(shape=[None], dtype=tf.int64, name='atom')\n",
    "bond_class = layers.Input(shape=[None], dtype=tf.int64, name='bond')\n",
    "connectivity = layers.Input(shape=[None, 2], dtype=tf.int64, name='connectivity')\n",
    "\n",
    "input_tensors = [n_atom, n_bond, bond_indices, atom_class, bond_class, connectivity]\n",
    "\n",
    "atom_features = 16\n",
    "num_messages = 3\n",
    "\n",
    "# Initialize the atom states\n",
    "atom_state = layers.Embedding(preprocessor.atom_classes, atom_features,\n",
    "                              name='atom_embedding', mask_zero=True)(atom_class)\n",
    "\n",
    "# Initialize the bond states\n",
    "bond_state = layers.Embedding(preprocessor.bond_classes, atom_features,\n",
    "                              name='bond_embedding', mask_zero=True)(bond_class)\n",
    "\n",
    "# Initialize the bond states\n",
    "atom_mean = layers.Embedding(preprocessor.atom_classes, 1,\n",
    "                             name='atom_mean', mask_zero=True)(atom_class)\n",
    "\n",
    "\n",
    "def message_block(original_atom_state, original_bond_state, connectivity, i):\n",
    "    \n",
    "    atom_state = layers.LayerNormalization()(original_atom_state)\n",
    "    bond_state = layers.LayerNormalization()(original_bond_state)\n",
    "    \n",
    "    source_atom = nfp.Gather()([atom_state, nfp.Slice(np.s_[:, :, 1])(connectivity)])\n",
    "    target_atom = nfp.Gather()([atom_state, nfp.Slice(np.s_[:, :, 0])(connectivity)])\n",
    "\n",
    "    # Edge update network\n",
    "    new_bond_state = layers.Concatenate(name='concat_{}'.format(i))(\n",
    "        [source_atom, target_atom, bond_state])\n",
    "    new_bond_state = layers.Dense(\n",
    "        2*atom_features, activation='relu')(new_bond_state)\n",
    "    new_bond_state = layers.Dense(atom_features)(new_bond_state)\n",
    "\n",
    "    bond_state = layers.Add()([original_bond_state, new_bond_state])\n",
    "\n",
    "    # message function\n",
    "    source_atom = layers.Dense(atom_features)(source_atom)    \n",
    "    messages = layers.Multiply()([source_atom, bond_state])\n",
    "    messages = nfp.Reduce(reduction='sum')(\n",
    "        [messages, nfp.Slice(np.s_[:, :, 0])(connectivity), atom_state])\n",
    "    \n",
    "    # state transition function\n",
    "    messages = layers.Dense(atom_features, activation='relu')(messages)\n",
    "    messages = layers.Dense(atom_features)(messages)\n",
    "    \n",
    "    atom_state = layers.Add()([original_atom_state, messages])\n",
    "    \n",
    "    return atom_state, bond_state\n",
    "\n",
    "for i in range(num_messages):\n",
    "    atom_state, bond_state = message_block(atom_state, bond_state, connectivity, i)\n",
    "    \n",
    "atom_state = layers.Dense(1)(atom_state)\n",
    "atom_state = layers.Add()([atom_state, atom_mean])\n",
    "\n",
    "averaged_solubility = tf.keras.layers.GlobalAveragePooling1D()(atom_state)\n",
    "\n",
    "model = tf.keras.Model(input_tensors, [averaged_solubility])\n",
    "model.compile(loss=nfp.masked_mean_absolute_error, optimizer=tf.keras.optimizers.Adam(3E-4))"
   ]
  },
  {
   "cell_type": "code",
   "execution_count": 14,
   "metadata": {},
   "outputs": [
    {
     "name": "stdout",
     "output_type": "stream",
     "text": [
      "Train for 14 steps, validate for 1 steps\n",
      "Epoch 1/50\n",
      "14/14 - 6s - loss: 2.0290 - val_loss: 1.6047\n",
      "Epoch 2/50\n",
      "14/14 - 0s - loss: 1.3893 - val_loss: 1.4492\n",
      "Epoch 3/50\n",
      "14/14 - 0s - loss: 1.3755 - val_loss: 1.1301\n",
      "Epoch 4/50\n",
      "14/14 - 0s - loss: 1.1544 - val_loss: 1.2164\n",
      "Epoch 5/50\n",
      "14/14 - 0s - loss: 1.1817 - val_loss: 0.9521\n",
      "Epoch 6/50\n",
      "14/14 - 0s - loss: 1.0862 - val_loss: 1.0091\n",
      "Epoch 7/50\n",
      "14/14 - 0s - loss: 1.0621 - val_loss: 0.8454\n",
      "Epoch 8/50\n",
      "14/14 - 0s - loss: 1.0413 - val_loss: 0.9067\n",
      "Epoch 9/50\n",
      "14/14 - 0s - loss: 1.0114 - val_loss: 0.8853\n",
      "Epoch 10/50\n",
      "14/14 - 0s - loss: 0.9550 - val_loss: 0.8118\n",
      "Epoch 11/50\n",
      "14/14 - 0s - loss: 0.9228 - val_loss: 0.7173\n",
      "Epoch 12/50\n",
      "14/14 - 0s - loss: 0.9065 - val_loss: 0.7539\n",
      "Epoch 13/50\n",
      "14/14 - 0s - loss: 0.8924 - val_loss: 0.7379\n",
      "Epoch 14/50\n",
      "14/14 - 0s - loss: 0.8709 - val_loss: 0.7388\n",
      "Epoch 15/50\n",
      "14/14 - 0s - loss: 0.8905 - val_loss: 0.7896\n",
      "Epoch 16/50\n",
      "14/14 - 0s - loss: 0.8546 - val_loss: 0.7882\n",
      "Epoch 17/50\n",
      "14/14 - 0s - loss: 0.8625 - val_loss: 0.8796\n",
      "Epoch 18/50\n",
      "14/14 - 0s - loss: 0.8100 - val_loss: 0.8873\n",
      "Epoch 19/50\n",
      "14/14 - 0s - loss: 0.8190 - val_loss: 0.7450\n",
      "Epoch 20/50\n",
      "14/14 - 0s - loss: 0.7414 - val_loss: 0.5967\n",
      "Epoch 21/50\n",
      "14/14 - 0s - loss: 0.7528 - val_loss: 0.6939\n",
      "Epoch 22/50\n",
      "14/14 - 0s - loss: 0.7540 - val_loss: 0.4516\n",
      "Epoch 23/50\n",
      "14/14 - 0s - loss: 0.7411 - val_loss: 0.7073\n",
      "Epoch 24/50\n",
      "14/14 - 0s - loss: 0.7610 - val_loss: 0.7575\n",
      "Epoch 25/50\n",
      "14/14 - 0s - loss: 0.7157 - val_loss: 0.7131\n",
      "Epoch 26/50\n",
      "14/14 - 0s - loss: 0.6962 - val_loss: 0.5384\n",
      "Epoch 27/50\n",
      "14/14 - 0s - loss: 0.7168 - val_loss: 0.6682\n",
      "Epoch 28/50\n",
      "14/14 - 0s - loss: 0.6889 - val_loss: 0.5528\n",
      "Epoch 29/50\n",
      "14/14 - 0s - loss: 0.7035 - val_loss: 0.6634\n",
      "Epoch 30/50\n",
      "14/14 - 0s - loss: 0.6277 - val_loss: 0.6349\n",
      "Epoch 31/50\n",
      "14/14 - 0s - loss: 0.7177 - val_loss: 0.6763\n",
      "Epoch 32/50\n",
      "14/14 - 0s - loss: 0.6942 - val_loss: 0.6490\n",
      "Epoch 33/50\n",
      "14/14 - 0s - loss: 0.6567 - val_loss: 0.7258\n",
      "Epoch 34/50\n",
      "14/14 - 0s - loss: 0.7078 - val_loss: 0.6182\n",
      "Epoch 35/50\n",
      "14/14 - 0s - loss: 0.6891 - val_loss: 0.7688\n",
      "Epoch 36/50\n",
      "14/14 - 0s - loss: 0.6310 - val_loss: 0.6403\n",
      "Epoch 37/50\n",
      "14/14 - 0s - loss: 0.6973 - val_loss: 0.6395\n",
      "Epoch 38/50\n",
      "14/14 - 0s - loss: 0.6542 - val_loss: 0.7310\n",
      "Epoch 39/50\n",
      "14/14 - 0s - loss: 0.6337 - val_loss: 0.6599\n",
      "Epoch 40/50\n",
      "14/14 - 0s - loss: 0.6328 - val_loss: 0.5897\n",
      "Epoch 41/50\n",
      "14/14 - 0s - loss: 0.6395 - val_loss: 0.5584\n",
      "Epoch 42/50\n",
      "14/14 - 0s - loss: 0.5828 - val_loss: 0.5907\n",
      "Epoch 43/50\n",
      "14/14 - 0s - loss: 0.6111 - val_loss: 0.5996\n",
      "Epoch 44/50\n",
      "14/14 - 0s - loss: 0.6455 - val_loss: 0.6206\n",
      "Epoch 45/50\n",
      "14/14 - 0s - loss: 0.6423 - val_loss: 0.6016\n",
      "Epoch 46/50\n",
      "14/14 - 0s - loss: 0.6173 - val_loss: 0.6237\n",
      "Epoch 47/50\n",
      "14/14 - 0s - loss: 0.6162 - val_loss: 0.5022\n",
      "Epoch 48/50\n",
      "14/14 - 0s - loss: 0.6150 - val_loss: 0.6191\n",
      "Epoch 49/50\n",
      "14/14 - 0s - loss: 0.5890 - val_loss: 0.6072\n",
      "Epoch 50/50\n",
      "14/14 - 0s - loss: 0.6161 - val_loss: 0.6367\n"
     ]
    }
   ],
   "source": [
    "hist = model.fit(train_dataset, validation_data=valid_dataset, epochs=50,\n",
    "                 steps_per_epoch=len(train) // batch_size,\n",
    "                 validation_steps=len(valid) // batch_size, verbose=2)"
   ]
  },
  {
   "cell_type": "code",
   "execution_count": 15,
   "metadata": {},
   "outputs": [
    {
     "data": {
      "text/plain": [
       "<matplotlib.legend.Legend at 0x7fa9e02e0e50>"
      ]
     },
     "execution_count": 15,
     "metadata": {},
     "output_type": "execute_result"
    },
    {
     "data": {
      "image/png": "[encoded data removed]",
      "text/plain": [
       "<Figure size 432x288 with 1 Axes>"
      ]
     },
     "metadata": {},
     "output_type": "display_data"
    }
   ],
   "source": [
    "plt.plot(hist.history['loss'], label='Train loss')\n",
    "plt.plot(hist.history['val_loss'], label='Val loss')\n",
    "plt.legend()"
   ]
  },
  {
   "cell_type": "markdown",
   "metadata": {},
   "source": [
    "### Model predictions\n",
    "\n",
    "Here I simulate wanting to re-load a trained model in another script. This saves both the preprocessor (for remembering how to convert atoms and bonds to their classes) as well as the trained model weights and structure."
   ]
  },
  {
   "cell_type": "code",
   "execution_count": 16,
   "metadata": {},
   "outputs": [],
   "source": [
    "model.save('model.h5')\n",
    "\n",
    "import pickle\n",
    "with open('preprocessor.p', 'wb') as f:\n",
    "    pickle.dump(preprocessor, f)"
   ]
  },
  {
   "cell_type": "code",
   "execution_count": 17,
   "metadata": {},
   "outputs": [],
   "source": [
    "# Just to show these are created again\n",
    "del model\n",
    "del preprocessor"
   ]
  },
  {
   "cell_type": "code",
   "execution_count": 18,
   "metadata": {},
   "outputs": [],
   "source": [
    "model = tf.keras.models.load_model('model.h5', custom_objects=nfp.custom_objects)\n",
    "with open('preprocessor.p', 'rb') as f:\n",
    "    preprocessor = pickle.load(f)"
   ]
  },
  {
   "cell_type": "markdown",
   "metadata": {},
   "source": [
    "Here I show a slightly different dataset approach that doesn't use TFRecords, in case this is done for interactive predictions of new molecules where round-tripping a binary file doesn't make sense"
   ]
  },
  {
   "cell_type": "code",
   "execution_count": 19,
   "metadata": {},
   "outputs": [],
   "source": [
    "def test_generator(smiles):\n",
    "    preprocessor.atom_tokenizer.train = False\n",
    "    preprocessor.bond_tokenizer.train = False    \n",
    "    for smiles in tqdm(smiles):\n",
    "        yield preprocessor.construct_feature_matrices(smiles)"
   ]
  },
  {
   "cell_type": "code",
   "execution_count": 20,
   "metadata": {},
   "outputs": [],
   "source": [
    "output_types = {'n_atom': tf.int64,\n",
    "                'n_bond': tf.int64,\n",
    "                'bond_indices': tf.int64,            \n",
    "                'atom': tf.int64,\n",
    "                'bond': tf.int64,\n",
    "                'connectivity': tf.int64}\n",
    "\n",
    "output_shapes = {'n_atom': tf.TensorShape([]),\n",
    "                 'n_bond': tf.TensorShape([]),\n",
    "                 'bond_indices': tf.TensorShape([None]),            \n",
    "                 'atom': tf.TensorShape([None]),\n",
    "                 'bond': tf.TensorShape([None]),\n",
    "                 'connectivity': tf.TensorShape([None, None])}\n",
    "       \n",
    "test_dataset = tf.data.Dataset.from_generator(\n",
    "    lambda: test_generator(test.smiles),\n",
    "    output_types=output_types, output_shapes=output_shapes)\\\n",
    "    .padded_batch(batch_size=batch_size, padded_shapes=padded_shapes[0],\n",
    "                  padding_values=padding_values[0])"
   ]
  },
  {
   "cell_type": "code",
   "execution_count": null,
   "metadata": {},
   "outputs": [
    {
     "name": "stderr",
     "output_type": "stream",
     "text": [
      " 92%|█████████▏| 104/113 [00:01<00:06,  1.44it/s]"
     ]
    }
   ],
   "source": [
    "predictions = model.predict(test_dataset)"
   ]
  },
  {
   "cell_type": "code",
   "execution_count": null,
   "metadata": {},
   "outputs": [],
   "source": [
    "plt.plot(predictions, test['measured log solubility in mols per litre'], '.')\n",
    "plt.plot([-10, 2], [-10, 2], '--', color='.7')\n",
    "mae = (predictions.squeeze() - test['measured log solubility in mols per litre']).abs().mean()\n",
    "plt.title(f'Test MAE: {mae:.3f}')"
   ]
  }
 ],
 "metadata": {
  "kernelspec": {
   "display_name": "Python 3",
   "language": "python",
   "name": "python3"
  },
  "language_info": {
   "codemirror_mode": {
    "name": "ipython",
    "version": 3
   },
   "file_extension": ".py",
   "mimetype": "text/x-python",
   "name": "python",
   "nbconvert_exporter": "python",
   "pygments_lexer": "ipython3",
   "version": "3.7.6"
  }
 },
 "nbformat": 4,
 "nbformat_minor": 4
}
