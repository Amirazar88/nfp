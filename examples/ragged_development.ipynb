{
 "cells": [
  {
   "cell_type": "code",
   "execution_count": 1,
   "id": "214a75e7",
   "metadata": {},
   "outputs": [
    {
     "name": "stdout",
     "output_type": "stream",
     "text": [
      "tensorflow 2.9.1\n",
      "nfp 0.3.12+2.gbdc69cb.dirty\n"
     ]
    }
   ],
   "source": [
    "import numpy as np\n",
    "import pandas as pd\n",
    "\n",
    "import tensorflow as tf\n",
    "import nfp\n",
    "\n",
    "print(f\"tensorflow {tf.__version__}\")\n",
    "print(f\"nfp {nfp.__version__}\")"
   ]
  },
  {
   "cell_type": "code",
   "execution_count": 2,
   "id": "a0f8865f",
   "metadata": {},
   "outputs": [],
   "source": [
    "smiles_list = [\"CC\", \"CCC\", \"C1CC1\", \"C\"]\n",
    "preprocessor = nfp.preprocessing.mol_preprocessor.SmilesPreprocessor()"
   ]
  },
  {
   "cell_type": "code",
   "execution_count": 3,
   "id": "a896a805",
   "metadata": {},
   "outputs": [
    {
     "name": "stderr",
     "output_type": "stream",
     "text": [
      "2022-07-13 11:15:30.259886: I tensorflow/core/platform/cpu_feature_guard.cc:193] This TensorFlow binary is optimized with oneAPI Deep Neural Network Library (oneDNN) to use the following CPU instructions in performance-critical operations:  AVX2 FMA\n",
      "To enable them in other operations, rebuild TensorFlow with the appropriate compiler flags.\n"
     ]
    }
   ],
   "source": [
    "dataset = tf.data.Dataset.from_generator(\n",
    "    lambda: (preprocessor(smiles, train=True) for smiles in smiles_list),\n",
    "    output_signature=preprocessor.output_signature,\n",
    ").apply(tf.data.experimental.dense_to_ragged_batch(batch_size=4))"
   ]
  },
  {
   "cell_type": "code",
   "execution_count": 4,
   "id": "20aecaff",
   "metadata": {},
   "outputs": [],
   "source": [
    "inputs_ragged = list(dataset.take(1))[0]"
   ]
  },
  {
   "cell_type": "code",
   "execution_count": 5,
   "id": "96f77c6e",
   "metadata": {},
   "outputs": [
    {
     "data": {
      "text/plain": [
       "TensorShape([4, None])"
      ]
     },
     "execution_count": 5,
     "metadata": {},
     "output_type": "execute_result"
    }
   ],
   "source": [
    "inputs_ragged['atom'].shape"
   ]
  },
  {
   "cell_type": "code",
   "execution_count": 6,
   "id": "3d97f76b",
   "metadata": {},
   "outputs": [
    {
     "data": {
      "text/plain": [
       "TensorShape([4, None])"
      ]
     },
     "execution_count": 6,
     "metadata": {},
     "output_type": "execute_result"
    }
   ],
   "source": [
    "inputs_ragged['bond'].shape"
   ]
  },
  {
   "cell_type": "code",
   "execution_count": 7,
   "id": "54ae4852",
   "metadata": {},
   "outputs": [
    {
     "data": {
      "text/plain": [
       "TensorShape([4, None, 2])"
      ]
     },
     "execution_count": 7,
     "metadata": {},
     "output_type": "execute_result"
    }
   ],
   "source": [
    "inputs_ragged['connectivity'].shape"
   ]
  },
  {
   "cell_type": "code",
   "execution_count": 8,
   "id": "d03b854b",
   "metadata": {},
   "outputs": [
    {
     "data": {
      "text/plain": [
       "<DynamicRaggedShape lengths=[4, (8, 11, 9, 5)] num_row_partitions=1>"
      ]
     },
     "execution_count": 8,
     "metadata": {},
     "output_type": "execute_result"
    }
   ],
   "source": [
    "tf.shape(inputs_ragged['atom'])"
   ]
  },
  {
   "cell_type": "code",
   "execution_count": 120,
   "id": "f49d6d9d",
   "metadata": {},
   "outputs": [],
   "source": [
    "layers = tf.keras.layers\n",
    "\n",
    "\n",
    "atom_class = layers.Input(shape=[None], dtype=tf.int64, name=\"atom\", ragged=True)\n",
    "bond_class = layers.Input(shape=[None], dtype=tf.int64, name=\"bond\", ragged=True)\n",
    "connectivity = layers.Input(shape=[None, 2], dtype=tf.int64, name=\"connectivity\", ragged=True)\n",
    "\n",
    "atom_state = layers.Embedding(preprocessor.atom_classes, 16, mask_zero=True)(\n",
    "    atom_class\n",
    ")\n",
    "bond_state = layers.Embedding(preprocessor.bond_classes, 16, mask_zero=True)(\n",
    "    bond_class\n",
    ")\n",
    "\n",
    "source_atom = tf.gather(atom_state, connectivity[:, :, 1], batch_dims=1)\n",
    "messages = nfp.ConcatDense()([source_atom, bond_state])\n",
    "\n",
    "num_atoms = atom_class.row_lengths()\n",
    "segment_ids = connectivity[:, :, 0] + tf.expand_dims(tf.math.cumsum(num_atoms, exclusive=True), 1)\n",
    "summed_messages = tf.math.segment_sum(messages.merge_dims(0,1), segment_ids.merge_dims(0,1))\n",
    "new_atom_state = tf.RaggedTensor.from_row_lengths(summed_messages, num_atoms)\n",
    "\n",
    "model = tf.keras.Model(\n",
    "    [atom_class, bond_class, connectivity], [new_atom_state]\n",
    ")"
   ]
  },
  {
   "cell_type": "code",
   "execution_count": 122,
   "id": "dc0d0306",
   "metadata": {},
   "outputs": [],
   "source": [
    "new_atom_state = model(inputs_ragged)"
   ]
  },
  {
   "cell_type": "code",
   "execution_count": 117,
   "id": "f82c42e7",
   "metadata": {},
   "outputs": [
    {
     "data": {
      "text/plain": [
       "<tf.Tensor: shape=(), dtype=int64, numpy=33>"
      ]
     },
     "execution_count": 117,
     "metadata": {},
     "output_type": "execute_result"
    }
   ],
   "source": [
    "sum(num_atoms)"
   ]
  },
  {
   "cell_type": "code",
   "execution_count": 107,
   "id": "28068bb4",
   "metadata": {},
   "outputs": [
    {
     "data": {
      "text/plain": [
       "<tf.Tensor: shape=(60,), dtype=int64, numpy=\n",
       "array([ 0,  0,  0,  0,  1,  1,  1,  1,  2,  3,  4,  5,  6,  7,  8,  8,  8,\n",
       "        8,  9,  9,  9,  9, 10, 10, 10, 10, 11, 12, 13, 14, 15, 16, 17, 18,\n",
       "       19, 19, 19, 19, 20, 20, 20, 20, 21, 21, 21, 21, 22, 23, 24, 25, 26,\n",
       "       27, 28, 28, 28, 28, 29, 30, 31, 32])>"
      ]
     },
     "execution_count": 107,
     "metadata": {},
     "output_type": "execute_result"
    }
   ],
   "source": []
  },
  {
   "cell_type": "code",
   "execution_count": 65,
   "id": "f6378cce",
   "metadata": {},
   "outputs": [],
   "source": [
    "connectivity = inputs_ragged['connectivity']"
   ]
  },
  {
   "cell_type": "code",
   "execution_count": 93,
   "id": "0eaef075",
   "metadata": {},
   "outputs": [
    {
     "data": {
      "text/plain": [
       "<tf.RaggedTensor [[0, 0, 0, 0, 1, 1, 1, 1, 2, 3, 4, 5, 6, 7],\n",
       " [8, 8, 8, 8, 9, 9, 9, 9, 10, 10, 10, 10, 11, 12, 13, 14, 15, 16, 17, 18],\n",
       " [19, 19, 19, 19, 20, 20, 20, 20, 21, 21, 21, 21, 22, 23, 24, 25, 26, 27],\n",
       " [28, 28, 28, 28, 29, 30, 31, 32]]>"
      ]
     },
     "execution_count": 93,
     "metadata": {},
     "output_type": "execute_result"
    }
   ],
   "source": [
    "connectivity[:, :, 0] + tf.expand_dims(tf.math.cumsum(num_atoms, exclusive=True), 1)"
   ]
  },
  {
   "cell_type": "code",
   "execution_count": 49,
   "id": "af65c53a",
   "metadata": {},
   "outputs": [
    {
     "data": {
      "text/plain": [
       "<tf.RaggedTensor [[0, 0, 0, 0, 1, 1, 1, 1, 2, 3, 4, 5, 6, 7],\n",
       " [0, 0, 0, 0, 1, 1, 1, 1, 2, 2, 2, 2, 3, 4, 5, 6, 7, 8, 9, 10],\n",
       " [0, 0, 0, 0, 1, 1, 1, 1, 2, 2, 2, 2, 3, 4, 5, 6, 7, 8],\n",
       " [0, 0, 0, 0, 1, 2, 3, 4]]>"
      ]
     },
     "execution_count": 49,
     "metadata": {},
     "output_type": "execute_result"
    }
   ],
   "source": [
    "inputs_ragged['connectivity'][:, :, 0]"
   ]
  },
  {
   "cell_type": "code",
   "execution_count": 50,
   "id": "a5ad3239",
   "metadata": {},
   "outputs": [
    {
     "data": {
      "text/plain": [
       "<KerasTensor: shape=(None, 16) dtype=float32 (created by layer 'tf.math.segment_sum_3')>"
      ]
     },
     "execution_count": 50,
     "metadata": {},
     "output_type": "execute_result"
    }
   ],
   "source": [
    "tf.math.segment_sum(messages[0], connectivity[0,:,0])"
   ]
  },
  {
   "cell_type": "code",
   "execution_count": 25,
   "id": "ea352494",
   "metadata": {},
   "outputs": [
    {
     "data": {
      "text/plain": [
       "TensorShape([4, None, 16])"
      ]
     },
     "execution_count": 25,
     "metadata": {},
     "output_type": "execute_result"
    }
   ],
   "source": [
    "messages.shape"
   ]
  },
  {
   "cell_type": "code",
   "execution_count": 30,
   "id": "d69fb654",
   "metadata": {},
   "outputs": [
    {
     "data": {
      "text/plain": [
       "<tf.Tensor: shape=(4,), dtype=int64, numpy=array([14, 20, 18,  8])>"
      ]
     },
     "execution_count": 30,
     "metadata": {},
     "output_type": "execute_result"
    }
   ],
   "source": [
    "messages.row_lengths()"
   ]
  },
  {
   "cell_type": "code",
   "execution_count": 26,
   "id": "7569f443",
   "metadata": {},
   "outputs": [
    {
     "data": {
      "text/plain": [
       "<DynamicRaggedShape lengths=[4, (14, 20, 18, 8), 16] num_row_partitions=1>"
      ]
     },
     "execution_count": 26,
     "metadata": {},
     "output_type": "execute_result"
    }
   ],
   "source": [
    "tf.shape(messages)"
   ]
  },
  {
   "cell_type": "code",
   "execution_count": null,
   "id": "1b12d268",
   "metadata": {},
   "outputs": [],
   "source": []
  }
 ],
 "metadata": {
  "kernelspec": {
   "display_name": "Python 3 (ipykernel)",
   "language": "python",
   "name": "python3"
  },
  "language_info": {
   "codemirror_mode": {
    "name": "ipython",
    "version": 3
   },
   "file_extension": ".py",
   "mimetype": "text/x-python",
   "name": "python",
   "nbconvert_exporter": "python",
   "pygments_lexer": "ipython3",
   "version": "3.8.12"
  }
 },
 "nbformat": 4,
 "nbformat_minor": 5
}
