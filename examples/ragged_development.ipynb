{
 "cells": [
  {
   "cell_type": "code",
   "execution_count": 1,
   "id": "214a75e7",
   "metadata": {},
   "outputs": [
    {
     "name": "stdout",
     "output_type": "stream",
     "text": [
      "tensorflow 2.9.1\n",
      "nfp 0.3.12+3.g93ba25b.dirty\n"
     ]
    }
   ],
   "source": [
    "import numpy as np\n",
    "import pandas as pd\n",
    "\n",
    "import tensorflow as tf\n",
    "import nfp\n",
    "\n",
    "print(f\"tensorflow {tf.__version__}\")\n",
    "print(f\"nfp {nfp.__version__}\")"
   ]
  },
  {
   "cell_type": "code",
   "execution_count": 2,
   "id": "a0f8865f",
   "metadata": {},
   "outputs": [],
   "source": [
    "smiles_list = [\"CC\", \"CCC\", \"C1CC1\", \"C\"]\n",
    "preprocessor = nfp.preprocessing.mol_preprocessor.SmilesPreprocessor()"
   ]
  },
  {
   "cell_type": "code",
   "execution_count": 3,
   "id": "a896a805",
   "metadata": {},
   "outputs": [
    {
     "name": "stderr",
     "output_type": "stream",
     "text": [
      "2022-07-13 15:03:08.687436: I tensorflow/core/platform/cpu_feature_guard.cc:193] This TensorFlow binary is optimized with oneAPI Deep Neural Network Library (oneDNN) to use the following CPU instructions in performance-critical operations:  AVX2 FMA\n",
      "To enable them in other operations, rebuild TensorFlow with the appropriate compiler flags.\n"
     ]
    }
   ],
   "source": [
    "dataset = tf.data.Dataset.from_generator(\n",
    "    lambda: (preprocessor(smiles, train=True) for smiles in smiles_list),\n",
    "    output_signature=preprocessor.output_signature,\n",
    ").apply(tf.data.experimental.dense_to_ragged_batch(batch_size=4))"
   ]
  },
  {
   "cell_type": "code",
   "execution_count": 4,
   "id": "20aecaff",
   "metadata": {},
   "outputs": [],
   "source": [
    "inputs_ragged = list(dataset.take(1))[0]"
   ]
  },
  {
   "cell_type": "code",
   "execution_count": 5,
   "id": "96f77c6e",
   "metadata": {},
   "outputs": [
    {
     "data": {
      "text/plain": [
       "TensorShape([4, None])"
      ]
     },
     "execution_count": 5,
     "metadata": {},
     "output_type": "execute_result"
    }
   ],
   "source": [
    "inputs_ragged['atom'].shape"
   ]
  },
  {
   "cell_type": "code",
   "execution_count": 6,
   "id": "3d97f76b",
   "metadata": {},
   "outputs": [
    {
     "data": {
      "text/plain": [
       "TensorShape([4, None])"
      ]
     },
     "execution_count": 6,
     "metadata": {},
     "output_type": "execute_result"
    }
   ],
   "source": [
    "inputs_ragged['bond'].shape"
   ]
  },
  {
   "cell_type": "code",
   "execution_count": 7,
   "id": "54ae4852",
   "metadata": {},
   "outputs": [
    {
     "data": {
      "text/plain": [
       "TensorShape([4, None, 2])"
      ]
     },
     "execution_count": 7,
     "metadata": {},
     "output_type": "execute_result"
    }
   ],
   "source": [
    "inputs_ragged['connectivity'].shape"
   ]
  },
  {
   "cell_type": "code",
   "execution_count": 8,
   "id": "d03b854b",
   "metadata": {},
   "outputs": [
    {
     "data": {
      "text/plain": [
       "<DynamicRaggedShape lengths=[4, (8, 11, 9, 5)] num_row_partitions=1>"
      ]
     },
     "execution_count": 8,
     "metadata": {},
     "output_type": "execute_result"
    }
   ],
   "source": [
    "tf.shape(inputs_ragged['atom'])"
   ]
  },
  {
   "cell_type": "code",
   "execution_count": 11,
   "id": "f49d6d9d",
   "metadata": {},
   "outputs": [],
   "source": [
    "layers = tf.keras.layers\n",
    "\n",
    "\n",
    "atom_class = layers.Input(shape=[None], dtype=tf.int64, name=\"atom\", ragged=True)\n",
    "bond_class = layers.Input(shape=[None], dtype=tf.int64, name=\"bond\", ragged=True)\n",
    "connectivity = layers.Input(shape=[None, 2], dtype=tf.int64, name=\"connectivity\", ragged=True)\n",
    "\n",
    "atom_state = layers.Embedding(preprocessor.atom_classes, 16, mask_zero=True)(\n",
    "    atom_class\n",
    ")\n",
    "bond_state = layers.Embedding(preprocessor.bond_classes, 16, mask_zero=True)(\n",
    "    bond_class\n",
    ")\n",
    "\n",
    "\n",
    "# global_state = nfp.GlobalUpdate(units=8, num_heads=1)([atom_state, bond_state, connectivity])\n",
    "\n",
    "\n",
    "source_atom = tf.gather(atom_state, connectivity[:, :, 1], batch_dims=1)\n",
    "messages = nfp.ConcatDense()([source_atom, bond_state])\n",
    "\n",
    "num_atoms = atom_class.row_lengths()\n",
    "segment_ids = connectivity[:, :, 0] + tf.expand_dims(tf.math.cumsum(num_atoms, exclusive=True), 1)\n",
    "summed_messages = tf.math.segment_sum(messages.merge_dims(0,1), segment_ids.merge_dims(0,1))\n",
    "new_atom_state = tf.RaggedTensor.from_row_lengths(summed_messages, num_atoms)\n",
    "\n",
    "model = tf.keras.Model(\n",
    "    [atom_class, bond_class, connectivity], [source_atom]\n",
    ")"
   ]
  },
  {
   "cell_type": "code",
   "execution_count": 12,
   "id": "dc0d0306",
   "metadata": {},
   "outputs": [],
   "source": [
    "source_atom = model(inputs_ragged)"
   ]
  },
  {
   "cell_type": "code",
   "execution_count": 18,
   "id": "6c287ec6",
   "metadata": {},
   "outputs": [
    {
     "ename": "ValueError",
     "evalue": "Cannot index into an inner ragged dimension.",
     "output_type": "error",
     "traceback": [
      "\u001b[0;31m---------------------------------------------------------------------------\u001b[0m",
      "\u001b[0;31mValueError\u001b[0m                                Traceback (most recent call last)",
      "Input \u001b[0;32mIn [18]\u001b[0m, in \u001b[0;36m<module>\u001b[0;34m\u001b[0m\n\u001b[0;32m----> 1\u001b[0m \u001b[43msource_atom\u001b[49m\u001b[43m[\u001b[49m\u001b[43m:\u001b[49m\u001b[43m,\u001b[49m\u001b[43m \u001b[49m\u001b[38;5;241;43m0\u001b[39;49m\u001b[43m,\u001b[49m\u001b[43m \u001b[49m\u001b[43m:\u001b[49m\u001b[43m]\u001b[49m\n",
      "File \u001b[0;32m~/mambaforge/envs/nfp_test/lib/python3.8/site-packages/tensorflow/python/util/traceback_utils.py:153\u001b[0m, in \u001b[0;36mfilter_traceback.<locals>.error_handler\u001b[0;34m(*args, **kwargs)\u001b[0m\n\u001b[1;32m    151\u001b[0m \u001b[38;5;28;01mexcept\u001b[39;00m \u001b[38;5;167;01mException\u001b[39;00m \u001b[38;5;28;01mas\u001b[39;00m e:\n\u001b[1;32m    152\u001b[0m   filtered_tb \u001b[38;5;241m=\u001b[39m _process_traceback_frames(e\u001b[38;5;241m.\u001b[39m__traceback__)\n\u001b[0;32m--> 153\u001b[0m   \u001b[38;5;28;01mraise\u001b[39;00m e\u001b[38;5;241m.\u001b[39mwith_traceback(filtered_tb) \u001b[38;5;28;01mfrom\u001b[39;00m \u001b[38;5;28mNone\u001b[39m\n\u001b[1;32m    154\u001b[0m \u001b[38;5;28;01mfinally\u001b[39;00m:\n\u001b[1;32m    155\u001b[0m   \u001b[38;5;28;01mdel\u001b[39;00m filtered_tb\n",
      "File \u001b[0;32m~/mambaforge/envs/nfp_test/lib/python3.8/site-packages/tensorflow/python/ops/ragged/ragged_getitem.py:325\u001b[0m, in \u001b[0;36m_ragged_getitem_inner_dimensions\u001b[0;34m(rt_input, key_list)\u001b[0m\n\u001b[1;32m    321\u001b[0m \u001b[38;5;66;03m# Indexing a single column in a ragged inner dimension: raise an Exception.\u001b[39;00m\n\u001b[1;32m    322\u001b[0m \u001b[38;5;66;03m# See RaggedTensor.__getitem__.__doc__ for an explanation of why indexing\u001b[39;00m\n\u001b[1;32m    323\u001b[0m \u001b[38;5;66;03m# into a ragged inner dimension is problematic.\u001b[39;00m\n\u001b[1;32m    324\u001b[0m \u001b[38;5;28;01mif\u001b[39;00m rt_input\u001b[38;5;241m.\u001b[39muniform_row_length \u001b[38;5;129;01mis\u001b[39;00m \u001b[38;5;28;01mNone\u001b[39;00m:\n\u001b[0;32m--> 325\u001b[0m   \u001b[38;5;28;01mraise\u001b[39;00m \u001b[38;5;167;01mValueError\u001b[39;00m(\u001b[38;5;124m\"\u001b[39m\u001b[38;5;124mCannot index into an inner ragged dimension.\u001b[39m\u001b[38;5;124m\"\u001b[39m)\n\u001b[1;32m    327\u001b[0m \u001b[38;5;66;03m# Indexing a single column in a uniform inner dimension: check that the\u001b[39;00m\n\u001b[1;32m    328\u001b[0m \u001b[38;5;66;03m# given index is in-bounds, and then use a strided slice over rt_input.values\u001b[39;00m\n\u001b[1;32m    329\u001b[0m \u001b[38;5;66;03m# to take the indicated element from each row.\u001b[39;00m\n\u001b[1;32m    330\u001b[0m row_length \u001b[38;5;241m=\u001b[39m rt_input\u001b[38;5;241m.\u001b[39muniform_row_length\n",
      "\u001b[0;31mValueError\u001b[0m: Cannot index into an inner ragged dimension."
     ]
    }
   ],
   "source": [
    "source_atom[:, 0, :]"
   ]
  },
  {
   "cell_type": "code",
   "execution_count": null,
   "id": "ffe4def1",
   "metadata": {},
   "outputs": [],
   "source": [
    "new_atom_state.ragged_rank"
   ]
  },
  {
   "cell_type": "code",
   "execution_count": null,
   "id": "b679b55c",
   "metadata": {},
   "outputs": [],
   "source": [
    "atom_class.ragged_rank"
   ]
  },
  {
   "cell_type": "code",
   "execution_count": null,
   "id": "9bcd15c9",
   "metadata": {},
   "outputs": [],
   "source": [
    "sum(num_atoms)"
   ]
  },
  {
   "cell_type": "code",
   "execution_count": null,
   "id": "9294d13c",
   "metadata": {},
   "outputs": [],
   "source": []
  },
  {
   "cell_type": "code",
   "execution_count": null,
   "id": "5e5b6f5c",
   "metadata": {},
   "outputs": [],
   "source": [
    "connectivity = inputs_ragged['connectivity']"
   ]
  },
  {
   "cell_type": "code",
   "execution_count": null,
   "id": "25f197fc",
   "metadata": {},
   "outputs": [],
   "source": [
    "connectivity[:, :, 0] + tf.expand_dims(tf.math.cumsum(num_atoms, exclusive=True), 1)"
   ]
  },
  {
   "cell_type": "code",
   "execution_count": null,
   "id": "d14612ed",
   "metadata": {},
   "outputs": [],
   "source": [
    "inputs_ragged['connectivity'][:, :, 0]"
   ]
  },
  {
   "cell_type": "code",
   "execution_count": null,
   "id": "a5ad3239",
   "metadata": {},
   "outputs": [],
   "source": [
    "tf.math.segment_sum(messages[0], connectivity[0,:,0])"
   ]
  },
  {
   "cell_type": "code",
   "execution_count": null,
   "id": "ea352494",
   "metadata": {},
   "outputs": [],
   "source": [
    "messages.shape"
   ]
  },
  {
   "cell_type": "code",
   "execution_count": null,
   "id": "d69fb654",
   "metadata": {},
   "outputs": [],
   "source": [
    "messages.row_lengths()"
   ]
  },
  {
   "cell_type": "code",
   "execution_count": null,
   "id": "7569f443",
   "metadata": {},
   "outputs": [],
   "source": [
    "tf.shape(messages)"
   ]
  },
  {
   "cell_type": "code",
   "execution_count": null,
   "id": "1b12d268",
   "metadata": {},
   "outputs": [],
   "source": []
  }
 ],
 "metadata": {
  "kernelspec": {
   "display_name": "Python 3 (ipykernel)",
   "language": "python",
   "name": "python3"
  },
  "language_info": {
   "codemirror_mode": {
    "name": "ipython",
    "version": 3
   },
   "file_extension": ".py",
   "mimetype": "text/x-python",
   "name": "python",
   "nbconvert_exporter": "python",
   "pygments_lexer": "ipython3",
   "version": "3.8.12"
  }
 },
 "nbformat": 4,
 "nbformat_minor": 5
}
